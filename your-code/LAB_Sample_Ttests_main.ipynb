{
 "cells": [
  {
   "cell_type": "markdown",
   "metadata": {},
   "source": [
    "# Before your start:\n",
    "- Read the README.md file\n",
    "- Comment as much as you can and use the resources (README.md file)\n",
    "- Happy learning!"
   ]
  },
  {
   "cell_type": "code",
   "execution_count": 1,
   "metadata": {},
   "outputs": [],
   "source": [
    "# import numpy and pandas\n",
    "\n",
    "import numpy as np\n",
    "import math\n",
    "import pandas as pd\n",
    "import matplotlib.pyplot as plt\n",
    "import random\n",
    "\n",
    "from scipy.stats import uniform\n",
    "from scipy.stats import norm\n",
    "from scipy.stats import expon"
   ]
  },
  {
   "cell_type": "markdown",
   "metadata": {},
   "source": [
    "# Challenge 1 - Independent Sample T-tests\n",
    "\n",
    "In this challenge, we will be using the Pokemon dataset. Before applying statistical methods to this data, let's first examine the data.\n",
    "\n",
    "To load the data, run the code below."
   ]
  },
  {
   "cell_type": "code",
   "execution_count": 2,
   "metadata": {},
   "outputs": [
    {
     "data": {
      "text/html": [
       "<div>\n",
       "<style scoped>\n",
       "    .dataframe tbody tr th:only-of-type {\n",
       "        vertical-align: middle;\n",
       "    }\n",
       "\n",
       "    .dataframe tbody tr th {\n",
       "        vertical-align: top;\n",
       "    }\n",
       "\n",
       "    .dataframe thead th {\n",
       "        text-align: right;\n",
       "    }\n",
       "</style>\n",
       "<table border=\"1\" class=\"dataframe\">\n",
       "  <thead>\n",
       "    <tr style=\"text-align: right;\">\n",
       "      <th></th>\n",
       "      <th>#</th>\n",
       "      <th>Name</th>\n",
       "      <th>Type 1</th>\n",
       "      <th>Type 2</th>\n",
       "      <th>Total</th>\n",
       "      <th>HP</th>\n",
       "      <th>Attack</th>\n",
       "      <th>Defense</th>\n",
       "      <th>Sp. Atk</th>\n",
       "      <th>Sp. Def</th>\n",
       "      <th>Speed</th>\n",
       "      <th>Generation</th>\n",
       "      <th>Legendary</th>\n",
       "    </tr>\n",
       "  </thead>\n",
       "  <tbody>\n",
       "    <tr>\n",
       "      <td>0</td>\n",
       "      <td>1</td>\n",
       "      <td>Bulbasaur</td>\n",
       "      <td>Grass</td>\n",
       "      <td>Poison</td>\n",
       "      <td>318</td>\n",
       "      <td>45</td>\n",
       "      <td>49</td>\n",
       "      <td>49</td>\n",
       "      <td>65</td>\n",
       "      <td>65</td>\n",
       "      <td>45</td>\n",
       "      <td>1</td>\n",
       "      <td>False</td>\n",
       "    </tr>\n",
       "    <tr>\n",
       "      <td>1</td>\n",
       "      <td>2</td>\n",
       "      <td>Ivysaur</td>\n",
       "      <td>Grass</td>\n",
       "      <td>Poison</td>\n",
       "      <td>405</td>\n",
       "      <td>60</td>\n",
       "      <td>62</td>\n",
       "      <td>63</td>\n",
       "      <td>80</td>\n",
       "      <td>80</td>\n",
       "      <td>60</td>\n",
       "      <td>1</td>\n",
       "      <td>False</td>\n",
       "    </tr>\n",
       "    <tr>\n",
       "      <td>2</td>\n",
       "      <td>3</td>\n",
       "      <td>Venusaur</td>\n",
       "      <td>Grass</td>\n",
       "      <td>Poison</td>\n",
       "      <td>525</td>\n",
       "      <td>80</td>\n",
       "      <td>82</td>\n",
       "      <td>83</td>\n",
       "      <td>100</td>\n",
       "      <td>100</td>\n",
       "      <td>80</td>\n",
       "      <td>1</td>\n",
       "      <td>False</td>\n",
       "    </tr>\n",
       "    <tr>\n",
       "      <td>3</td>\n",
       "      <td>3</td>\n",
       "      <td>VenusaurMega Venusaur</td>\n",
       "      <td>Grass</td>\n",
       "      <td>Poison</td>\n",
       "      <td>625</td>\n",
       "      <td>80</td>\n",
       "      <td>100</td>\n",
       "      <td>123</td>\n",
       "      <td>122</td>\n",
       "      <td>120</td>\n",
       "      <td>80</td>\n",
       "      <td>1</td>\n",
       "      <td>False</td>\n",
       "    </tr>\n",
       "    <tr>\n",
       "      <td>4</td>\n",
       "      <td>4</td>\n",
       "      <td>Charmander</td>\n",
       "      <td>Fire</td>\n",
       "      <td>NaN</td>\n",
       "      <td>309</td>\n",
       "      <td>39</td>\n",
       "      <td>52</td>\n",
       "      <td>43</td>\n",
       "      <td>60</td>\n",
       "      <td>50</td>\n",
       "      <td>65</td>\n",
       "      <td>1</td>\n",
       "      <td>False</td>\n",
       "    </tr>\n",
       "    <tr>\n",
       "      <td>...</td>\n",
       "      <td>...</td>\n",
       "      <td>...</td>\n",
       "      <td>...</td>\n",
       "      <td>...</td>\n",
       "      <td>...</td>\n",
       "      <td>...</td>\n",
       "      <td>...</td>\n",
       "      <td>...</td>\n",
       "      <td>...</td>\n",
       "      <td>...</td>\n",
       "      <td>...</td>\n",
       "      <td>...</td>\n",
       "      <td>...</td>\n",
       "    </tr>\n",
       "    <tr>\n",
       "      <td>795</td>\n",
       "      <td>719</td>\n",
       "      <td>Diancie</td>\n",
       "      <td>Rock</td>\n",
       "      <td>Fairy</td>\n",
       "      <td>600</td>\n",
       "      <td>50</td>\n",
       "      <td>100</td>\n",
       "      <td>150</td>\n",
       "      <td>100</td>\n",
       "      <td>150</td>\n",
       "      <td>50</td>\n",
       "      <td>6</td>\n",
       "      <td>True</td>\n",
       "    </tr>\n",
       "    <tr>\n",
       "      <td>796</td>\n",
       "      <td>719</td>\n",
       "      <td>DiancieMega Diancie</td>\n",
       "      <td>Rock</td>\n",
       "      <td>Fairy</td>\n",
       "      <td>700</td>\n",
       "      <td>50</td>\n",
       "      <td>160</td>\n",
       "      <td>110</td>\n",
       "      <td>160</td>\n",
       "      <td>110</td>\n",
       "      <td>110</td>\n",
       "      <td>6</td>\n",
       "      <td>True</td>\n",
       "    </tr>\n",
       "    <tr>\n",
       "      <td>797</td>\n",
       "      <td>720</td>\n",
       "      <td>HoopaHoopa Confined</td>\n",
       "      <td>Psychic</td>\n",
       "      <td>Ghost</td>\n",
       "      <td>600</td>\n",
       "      <td>80</td>\n",
       "      <td>110</td>\n",
       "      <td>60</td>\n",
       "      <td>150</td>\n",
       "      <td>130</td>\n",
       "      <td>70</td>\n",
       "      <td>6</td>\n",
       "      <td>True</td>\n",
       "    </tr>\n",
       "    <tr>\n",
       "      <td>798</td>\n",
       "      <td>720</td>\n",
       "      <td>HoopaHoopa Unbound</td>\n",
       "      <td>Psychic</td>\n",
       "      <td>Dark</td>\n",
       "      <td>680</td>\n",
       "      <td>80</td>\n",
       "      <td>160</td>\n",
       "      <td>60</td>\n",
       "      <td>170</td>\n",
       "      <td>130</td>\n",
       "      <td>80</td>\n",
       "      <td>6</td>\n",
       "      <td>True</td>\n",
       "    </tr>\n",
       "    <tr>\n",
       "      <td>799</td>\n",
       "      <td>721</td>\n",
       "      <td>Volcanion</td>\n",
       "      <td>Fire</td>\n",
       "      <td>Water</td>\n",
       "      <td>600</td>\n",
       "      <td>80</td>\n",
       "      <td>110</td>\n",
       "      <td>120</td>\n",
       "      <td>130</td>\n",
       "      <td>90</td>\n",
       "      <td>70</td>\n",
       "      <td>6</td>\n",
       "      <td>True</td>\n",
       "    </tr>\n",
       "  </tbody>\n",
       "</table>\n",
       "<p>800 rows × 13 columns</p>\n",
       "</div>"
      ],
      "text/plain": [
       "       #                   Name   Type 1  Type 2  Total  HP  Attack  Defense  \\\n",
       "0      1              Bulbasaur    Grass  Poison    318  45      49       49   \n",
       "1      2                Ivysaur    Grass  Poison    405  60      62       63   \n",
       "2      3               Venusaur    Grass  Poison    525  80      82       83   \n",
       "3      3  VenusaurMega Venusaur    Grass  Poison    625  80     100      123   \n",
       "4      4             Charmander     Fire     NaN    309  39      52       43   \n",
       "..   ...                    ...      ...     ...    ...  ..     ...      ...   \n",
       "795  719                Diancie     Rock   Fairy    600  50     100      150   \n",
       "796  719    DiancieMega Diancie     Rock   Fairy    700  50     160      110   \n",
       "797  720    HoopaHoopa Confined  Psychic   Ghost    600  80     110       60   \n",
       "798  720     HoopaHoopa Unbound  Psychic    Dark    680  80     160       60   \n",
       "799  721              Volcanion     Fire   Water    600  80     110      120   \n",
       "\n",
       "     Sp. Atk  Sp. Def  Speed  Generation  Legendary  \n",
       "0         65       65     45           1      False  \n",
       "1         80       80     60           1      False  \n",
       "2        100      100     80           1      False  \n",
       "3        122      120     80           1      False  \n",
       "4         60       50     65           1      False  \n",
       "..       ...      ...    ...         ...        ...  \n",
       "795      100      150     50           6       True  \n",
       "796      160      110    110           6       True  \n",
       "797      150      130     70           6       True  \n",
       "798      170      130     80           6       True  \n",
       "799      130       90     70           6       True  \n",
       "\n",
       "[800 rows x 13 columns]"
      ]
     },
     "execution_count": 2,
     "metadata": {},
     "output_type": "execute_result"
    }
   ],
   "source": [
    "# Run this code:\n",
    "\n",
    "pokemon = pd.read_csv('../pokemon.csv')"
   ]
  },
  {
   "cell_type": "code",
   "execution_count": 5,
   "metadata": {},
   "outputs": [
    {
     "name": "stdout",
     "output_type": "stream",
     "text": [
      "[  1   2   3   4   5   6   7   8   9  10  11  12  13  14  15  16  17  18\n",
      "  19  20  21  22  23  24  25  26  27  28  29  30  31  32  33  34  35  36\n",
      "  37  38  39  40  41  42  43  44  45  46  47  48  49  50  51  52  53  54\n",
      "  55  56  57  58  59  60  61  62  63  64  65  66  67  68  69  70  71  72\n",
      "  73  74  75  76  77  78  79  80  81  82  83  84  85  86  87  88  89  90\n",
      "  91  92  93  94  95  96  97  98  99 100 101 102 103 104 105 106 107 108\n",
      " 109 110 111 112 113 114 115 116 117 118 119 120 121 122 123 124 125 126\n",
      " 127 128 129 130 131 132 133 134 135 136 137 138 139 140 141 142 143 144\n",
      " 145 146 147 148 149 150 151 152 153 154 155 156 157 158 159 160 161 162\n",
      " 163 164 165 166 167 168 169 170 171 172 173 174 175 176 177 178 179 180\n",
      " 181 182 183 184 185 186 187 188 189 190 191 192 193 194 195 196 197 198\n",
      " 199 200 201 202 203 204 205 206 207 208 209 210 211 212 213 214 215 216\n",
      " 217 218 219 220 221 222 223 224 225 226 227 228 229 230 231 232 233 234\n",
      " 235 236 237 238 239 240 241 242 243 244 245 246 247 248 249 250 251 252\n",
      " 253 254 255 256 257 258 259 260 261 262 263 264 265 266 267 268 269 270\n",
      " 271 272 273 274 275 276 277 278 279 280 281 282 283 284 285 286 287 288\n",
      " 289 290 291 292 293 294 295 296 297 298 299 300 301 302 303 304 305 306\n",
      " 307 308 309 310 311 312 313 314 315 316 317 318 319 320 321 322 323 324\n",
      " 325 326 327 328 329 330 331 332 333 334 335 336 337 338 339 340 341 342\n",
      " 343 344 345 346 347 348 349 350 351 352 353 354 355 356 357 358 359 360\n",
      " 361 362 363 364 365 366 367 368 369 370 371 372 373 374 375 376 377 378\n",
      " 379 380 381 382 383 384 385 386 387 388 389 390 391 392 393 394 395 396\n",
      " 397 398 399 400 401 402 403 404 405 406 407 408 409 410 411 412 413 414\n",
      " 415 416 417 418 419 420 421 422 423 424 425 426 427 428 429 430 431 432\n",
      " 433 434 435 436 437 438 439 440 441 442 443 444 445 446 447 448 449 450\n",
      " 451 452 453 454 455 456 457 458 459 460 461 462 463 464 465 466 467 468\n",
      " 469 470 471 472 473 474 475 476 477 478 479 480 481 482 483 484 485 486\n",
      " 487 488 489 490 491 492 493 494 495 496 497 498 499 500 501 502 503 504\n",
      " 505 506 507 508 509 510 511 512 513 514 515 516 517 518 519 520 521 522\n",
      " 523 524 525 526 527 528 529 530 531 532 533 534 535 536 537 538 539 540\n",
      " 541 542 543 544 545 546 547 548 549 550 551 552 553 554 555 556 557 558\n",
      " 559 560 561 562 563 564 565 566 567 568 569 570 571 572 573 574 575 576\n",
      " 577 578 579 580 581 582 583 584 585 586 587 588 589 590 591 592 593 594\n",
      " 595 596 597 598 599 600 601 602 603 604 605 606 607 608 609 610 611 612\n",
      " 613 614 615 616 617 618 619 620 621 622 623 624 625 626 627 628 629 630\n",
      " 631 632 633 634 635 636 637 638 639 640 641 642 643 644 645 646 647 648\n",
      " 649 650 651 652 653 654 655 656 657 658 659 660 661 662 663 664 665 666\n",
      " 667 668 669 670 671 672 673 674 675 676 677 678 679 680 681 682 683 684\n",
      " 685 686 687 688 689 690 691 692 693 694 695 696 697 698 699 700 701 702\n",
      " 703 704 705 706 707 708 709 710 711 712 713 714 715 716 717 718 719 720\n",
      " 721]\n",
      "['Bulbasaur' 'Ivysaur' 'Venusaur' 'VenusaurMega Venusaur' 'Charmander'\n",
      " 'Charmeleon' 'Charizard' 'CharizardMega Charizard X'\n",
      " 'CharizardMega Charizard Y' 'Squirtle' 'Wartortle' 'Blastoise'\n",
      " 'BlastoiseMega Blastoise' 'Caterpie' 'Metapod' 'Butterfree' 'Weedle'\n",
      " 'Kakuna' 'Beedrill' 'BeedrillMega Beedrill' 'Pidgey' 'Pidgeotto'\n",
      " 'Pidgeot' 'PidgeotMega Pidgeot' 'Rattata' 'Raticate' 'Spearow' 'Fearow'\n",
      " 'Ekans' 'Arbok' 'Pikachu' 'Raichu' 'Sandshrew' 'Sandslash' 'Nidoran♀'\n",
      " 'Nidorina' 'Nidoqueen' 'Nidoran♂' 'Nidorino' 'Nidoking' 'Clefairy'\n",
      " 'Clefable' 'Vulpix' 'Ninetales' 'Jigglypuff' 'Wigglytuff' 'Zubat'\n",
      " 'Golbat' 'Oddish' 'Gloom' 'Vileplume' 'Paras' 'Parasect' 'Venonat'\n",
      " 'Venomoth' 'Diglett' 'Dugtrio' 'Meowth' 'Persian' 'Psyduck' 'Golduck'\n",
      " 'Mankey' 'Primeape' 'Growlithe' 'Arcanine' 'Poliwag' 'Poliwhirl'\n",
      " 'Poliwrath' 'Abra' 'Kadabra' 'Alakazam' 'AlakazamMega Alakazam' 'Machop'\n",
      " 'Machoke' 'Machamp' 'Bellsprout' 'Weepinbell' 'Victreebel' 'Tentacool'\n",
      " 'Tentacruel' 'Geodude' 'Graveler' 'Golem' 'Ponyta' 'Rapidash' 'Slowpoke'\n",
      " 'Slowbro' 'SlowbroMega Slowbro' 'Magnemite' 'Magneton' \"Farfetch'd\"\n",
      " 'Doduo' 'Dodrio' 'Seel' 'Dewgong' 'Grimer' 'Muk' 'Shellder' 'Cloyster'\n",
      " 'Gastly' 'Haunter' 'Gengar' 'GengarMega Gengar' 'Onix' 'Drowzee' 'Hypno'\n",
      " 'Krabby' 'Kingler' 'Voltorb' 'Electrode' 'Exeggcute' 'Exeggutor' 'Cubone'\n",
      " 'Marowak' 'Hitmonlee' 'Hitmonchan' 'Lickitung' 'Koffing' 'Weezing'\n",
      " 'Rhyhorn' 'Rhydon' 'Chansey' 'Tangela' 'Kangaskhan'\n",
      " 'KangaskhanMega Kangaskhan' 'Horsea' 'Seadra' 'Goldeen' 'Seaking'\n",
      " 'Staryu' 'Starmie' 'Mr. Mime' 'Scyther' 'Jynx' 'Electabuzz' 'Magmar'\n",
      " 'Pinsir' 'PinsirMega Pinsir' 'Tauros' 'Magikarp' 'Gyarados'\n",
      " 'GyaradosMega Gyarados' 'Lapras' 'Ditto' 'Eevee' 'Vaporeon' 'Jolteon'\n",
      " 'Flareon' 'Porygon' 'Omanyte' 'Omastar' 'Kabuto' 'Kabutops' 'Aerodactyl'\n",
      " 'AerodactylMega Aerodactyl' 'Snorlax' 'Articuno' 'Zapdos' 'Moltres'\n",
      " 'Dratini' 'Dragonair' 'Dragonite' 'Mewtwo' 'MewtwoMega Mewtwo X'\n",
      " 'MewtwoMega Mewtwo Y' 'Mew' 'Chikorita' 'Bayleef' 'Meganium' 'Cyndaquil'\n",
      " 'Quilava' 'Typhlosion' 'Totodile' 'Croconaw' 'Feraligatr' 'Sentret'\n",
      " 'Furret' 'Hoothoot' 'Noctowl' 'Ledyba' 'Ledian' 'Spinarak' 'Ariados'\n",
      " 'Crobat' 'Chinchou' 'Lanturn' 'Pichu' 'Cleffa' 'Igglybuff' 'Togepi'\n",
      " 'Togetic' 'Natu' 'Xatu' 'Mareep' 'Flaaffy' 'Ampharos'\n",
      " 'AmpharosMega Ampharos' 'Bellossom' 'Marill' 'Azumarill' 'Sudowoodo'\n",
      " 'Politoed' 'Hoppip' 'Skiploom' 'Jumpluff' 'Aipom' 'Sunkern' 'Sunflora'\n",
      " 'Yanma' 'Wooper' 'Quagsire' 'Espeon' 'Umbreon' 'Murkrow' 'Slowking'\n",
      " 'Misdreavus' 'Unown' 'Wobbuffet' 'Girafarig' 'Pineco' 'Forretress'\n",
      " 'Dunsparce' 'Gligar' 'Steelix' 'SteelixMega Steelix' 'Snubbull'\n",
      " 'Granbull' 'Qwilfish' 'Scizor' 'ScizorMega Scizor' 'Shuckle' 'Heracross'\n",
      " 'HeracrossMega Heracross' 'Sneasel' 'Teddiursa' 'Ursaring' 'Slugma'\n",
      " 'Magcargo' 'Swinub' 'Piloswine' 'Corsola' 'Remoraid' 'Octillery'\n",
      " 'Delibird' 'Mantine' 'Skarmory' 'Houndour' 'Houndoom'\n",
      " 'HoundoomMega Houndoom' 'Kingdra' 'Phanpy' 'Donphan' 'Porygon2'\n",
      " 'Stantler' 'Smeargle' 'Tyrogue' 'Hitmontop' 'Smoochum' 'Elekid' 'Magby'\n",
      " 'Miltank' 'Blissey' 'Raikou' 'Entei' 'Suicune' 'Larvitar' 'Pupitar'\n",
      " 'Tyranitar' 'TyranitarMega Tyranitar' 'Lugia' 'Ho-oh' 'Celebi' 'Treecko'\n",
      " 'Grovyle' 'Sceptile' 'SceptileMega Sceptile' 'Torchic' 'Combusken'\n",
      " 'Blaziken' 'BlazikenMega Blaziken' 'Mudkip' 'Marshtomp' 'Swampert'\n",
      " 'SwampertMega Swampert' 'Poochyena' 'Mightyena' 'Zigzagoon' 'Linoone'\n",
      " 'Wurmple' 'Silcoon' 'Beautifly' 'Cascoon' 'Dustox' 'Lotad' 'Lombre'\n",
      " 'Ludicolo' 'Seedot' 'Nuzleaf' 'Shiftry' 'Taillow' 'Swellow' 'Wingull'\n",
      " 'Pelipper' 'Ralts' 'Kirlia' 'Gardevoir' 'GardevoirMega Gardevoir'\n",
      " 'Surskit' 'Masquerain' 'Shroomish' 'Breloom' 'Slakoth' 'Vigoroth'\n",
      " 'Slaking' 'Nincada' 'Ninjask' 'Shedinja' 'Whismur' 'Loudred' 'Exploud'\n",
      " 'Makuhita' 'Hariyama' 'Azurill' 'Nosepass' 'Skitty' 'Delcatty' 'Sableye'\n",
      " 'SableyeMega Sableye' 'Mawile' 'MawileMega Mawile' 'Aron' 'Lairon'\n",
      " 'Aggron' 'AggronMega Aggron' 'Meditite' 'Medicham'\n",
      " 'MedichamMega Medicham' 'Electrike' 'Manectric' 'ManectricMega Manectric'\n",
      " 'Plusle' 'Minun' 'Volbeat' 'Illumise' 'Roselia' 'Gulpin' 'Swalot'\n",
      " 'Carvanha' 'Sharpedo' 'SharpedoMega Sharpedo' 'Wailmer' 'Wailord' 'Numel'\n",
      " 'Camerupt' 'CameruptMega Camerupt' 'Torkoal' 'Spoink' 'Grumpig' 'Spinda'\n",
      " 'Trapinch' 'Vibrava' 'Flygon' 'Cacnea' 'Cacturne' 'Swablu' 'Altaria'\n",
      " 'AltariaMega Altaria' 'Zangoose' 'Seviper' 'Lunatone' 'Solrock'\n",
      " 'Barboach' 'Whiscash' 'Corphish' 'Crawdaunt' 'Baltoy' 'Claydol' 'Lileep'\n",
      " 'Cradily' 'Anorith' 'Armaldo' 'Feebas' 'Milotic' 'Castform' 'Kecleon'\n",
      " 'Shuppet' 'Banette' 'BanetteMega Banette' 'Duskull' 'Dusclops' 'Tropius'\n",
      " 'Chimecho' 'Absol' 'AbsolMega Absol' 'Wynaut' 'Snorunt' 'Glalie'\n",
      " 'GlalieMega Glalie' 'Spheal' 'Sealeo' 'Walrein' 'Clamperl' 'Huntail'\n",
      " 'Gorebyss' 'Relicanth' 'Luvdisc' 'Bagon' 'Shelgon' 'Salamence'\n",
      " 'SalamenceMega Salamence' 'Beldum' 'Metang' 'Metagross'\n",
      " 'MetagrossMega Metagross' 'Regirock' 'Regice' 'Registeel' 'Latias'\n",
      " 'LatiasMega Latias' 'Latios' 'LatiosMega Latios' 'Kyogre'\n",
      " 'KyogrePrimal Kyogre' 'Groudon' 'GroudonPrimal Groudon' 'Rayquaza'\n",
      " 'RayquazaMega Rayquaza' 'Jirachi' 'DeoxysNormal Forme'\n",
      " 'DeoxysAttack Forme' 'DeoxysDefense Forme' 'DeoxysSpeed Forme' 'Turtwig'\n",
      " 'Grotle' 'Torterra' 'Chimchar' 'Monferno' 'Infernape' 'Piplup' 'Prinplup'\n",
      " 'Empoleon' 'Starly' 'Staravia' 'Staraptor' 'Bidoof' 'Bibarel' 'Kricketot'\n",
      " 'Kricketune' 'Shinx' 'Luxio' 'Luxray' 'Budew' 'Roserade' 'Cranidos'\n",
      " 'Rampardos' 'Shieldon' 'Bastiodon' 'Burmy' 'WormadamPlant Cloak'\n",
      " 'WormadamSandy Cloak' 'WormadamTrash Cloak' 'Mothim' 'Combee' 'Vespiquen'\n",
      " 'Pachirisu' 'Buizel' 'Floatzel' 'Cherubi' 'Cherrim' 'Shellos' 'Gastrodon'\n",
      " 'Ambipom' 'Drifloon' 'Drifblim' 'Buneary' 'Lopunny' 'LopunnyMega Lopunny'\n",
      " 'Mismagius' 'Honchkrow' 'Glameow' 'Purugly' 'Chingling' 'Stunky'\n",
      " 'Skuntank' 'Bronzor' 'Bronzong' 'Bonsly' 'Mime Jr.' 'Happiny' 'Chatot'\n",
      " 'Spiritomb' 'Gible' 'Gabite' 'Garchomp' 'GarchompMega Garchomp'\n",
      " 'Munchlax' 'Riolu' 'Lucario' 'LucarioMega Lucario' 'Hippopotas'\n",
      " 'Hippowdon' 'Skorupi' 'Drapion' 'Croagunk' 'Toxicroak' 'Carnivine'\n",
      " 'Finneon' 'Lumineon' 'Mantyke' 'Snover' 'Abomasnow'\n",
      " 'AbomasnowMega Abomasnow' 'Weavile' 'Magnezone' 'Lickilicky' 'Rhyperior'\n",
      " 'Tangrowth' 'Electivire' 'Magmortar' 'Togekiss' 'Yanmega' 'Leafeon'\n",
      " 'Glaceon' 'Gliscor' 'Mamoswine' 'Porygon-Z' 'Gallade'\n",
      " 'GalladeMega Gallade' 'Probopass' 'Dusknoir' 'Froslass' 'Rotom'\n",
      " 'RotomHeat Rotom' 'RotomWash Rotom' 'RotomFrost Rotom' 'RotomFan Rotom'\n",
      " 'RotomMow Rotom' 'Uxie' 'Mesprit' 'Azelf' 'Dialga' 'Palkia' 'Heatran'\n",
      " 'Regigigas' 'GiratinaAltered Forme' 'GiratinaOrigin Forme' 'Cresselia'\n",
      " 'Phione' 'Manaphy' 'Darkrai' 'ShayminLand Forme' 'ShayminSky Forme'\n",
      " 'Arceus' 'Victini' 'Snivy' 'Servine' 'Serperior' 'Tepig' 'Pignite'\n",
      " 'Emboar' 'Oshawott' 'Dewott' 'Samurott' 'Patrat' 'Watchog' 'Lillipup'\n",
      " 'Herdier' 'Stoutland' 'Purrloin' 'Liepard' 'Pansage' 'Simisage' 'Pansear'\n",
      " 'Simisear' 'Panpour' 'Simipour' 'Munna' 'Musharna' 'Pidove' 'Tranquill'\n",
      " 'Unfezant' 'Blitzle' 'Zebstrika' 'Roggenrola' 'Boldore' 'Gigalith'\n",
      " 'Woobat' 'Swoobat' 'Drilbur' 'Excadrill' 'Audino' 'AudinoMega Audino'\n",
      " 'Timburr' 'Gurdurr' 'Conkeldurr' 'Tympole' 'Palpitoad' 'Seismitoad'\n",
      " 'Throh' 'Sawk' 'Sewaddle' 'Swadloon' 'Leavanny' 'Venipede' 'Whirlipede'\n",
      " 'Scolipede' 'Cottonee' 'Whimsicott' 'Petilil' 'Lilligant' 'Basculin'\n",
      " 'Sandile' 'Krokorok' 'Krookodile' 'Darumaka' 'DarmanitanStandard Mode'\n",
      " 'DarmanitanZen Mode' 'Maractus' 'Dwebble' 'Crustle' 'Scraggy' 'Scrafty'\n",
      " 'Sigilyph' 'Yamask' 'Cofagrigus' 'Tirtouga' 'Carracosta' 'Archen'\n",
      " 'Archeops' 'Trubbish' 'Garbodor' 'Zorua' 'Zoroark' 'Minccino' 'Cinccino'\n",
      " 'Gothita' 'Gothorita' 'Gothitelle' 'Solosis' 'Duosion' 'Reuniclus'\n",
      " 'Ducklett' 'Swanna' 'Vanillite' 'Vanillish' 'Vanilluxe' 'Deerling'\n",
      " 'Sawsbuck' 'Emolga' 'Karrablast' 'Escavalier' 'Foongus' 'Amoonguss'\n",
      " 'Frillish' 'Jellicent' 'Alomomola' 'Joltik' 'Galvantula' 'Ferroseed'\n",
      " 'Ferrothorn' 'Klink' 'Klang' 'Klinklang' 'Tynamo' 'Eelektrik'\n",
      " 'Eelektross' 'Elgyem' 'Beheeyem' 'Litwick' 'Lampent' 'Chandelure' 'Axew'\n",
      " 'Fraxure' 'Haxorus' 'Cubchoo' 'Beartic' 'Cryogonal' 'Shelmet' 'Accelgor'\n",
      " 'Stunfisk' 'Mienfoo' 'Mienshao' 'Druddigon' 'Golett' 'Golurk' 'Pawniard'\n",
      " 'Bisharp' 'Bouffalant' 'Rufflet' 'Braviary' 'Vullaby' 'Mandibuzz'\n",
      " 'Heatmor' 'Durant' 'Deino' 'Zweilous' 'Hydreigon' 'Larvesta' 'Volcarona'\n",
      " 'Cobalion' 'Terrakion' 'Virizion' 'TornadusIncarnate Forme'\n",
      " 'TornadusTherian Forme' 'ThundurusIncarnate Forme'\n",
      " 'ThundurusTherian Forme' 'Reshiram' 'Zekrom' 'LandorusIncarnate Forme'\n",
      " 'LandorusTherian Forme' 'Kyurem' 'KyuremBlack Kyurem'\n",
      " 'KyuremWhite Kyurem' 'KeldeoOrdinary Forme' 'KeldeoResolute Forme'\n",
      " 'MeloettaAria Forme' 'MeloettaPirouette Forme' 'Genesect' 'Chespin'\n",
      " 'Quilladin' 'Chesnaught' 'Fennekin' 'Braixen' 'Delphox' 'Froakie'\n",
      " 'Frogadier' 'Greninja' 'Bunnelby' 'Diggersby' 'Fletchling' 'Fletchinder'\n",
      " 'Talonflame' 'Scatterbug' 'Spewpa' 'Vivillon' 'Litleo' 'Pyroar' 'Flabébé'\n",
      " 'Floette' 'Florges' 'Skiddo' 'Gogoat' 'Pancham' 'Pangoro' 'Furfrou'\n",
      " 'Espurr' 'MeowsticMale' 'MeowsticFemale' 'Honedge' 'Doublade'\n",
      " 'AegislashBlade Forme' 'AegislashShield Forme' 'Spritzee' 'Aromatisse'\n",
      " 'Swirlix' 'Slurpuff' 'Inkay' 'Malamar' 'Binacle' 'Barbaracle' 'Skrelp'\n",
      " 'Dragalge' 'Clauncher' 'Clawitzer' 'Helioptile' 'Heliolisk' 'Tyrunt'\n",
      " 'Tyrantrum' 'Amaura' 'Aurorus' 'Sylveon' 'Hawlucha' 'Dedenne' 'Carbink'\n",
      " 'Goomy' 'Sliggoo' 'Goodra' 'Klefki' 'Phantump' 'Trevenant'\n",
      " 'PumpkabooAverage Size' 'PumpkabooSmall Size' 'PumpkabooLarge Size'\n",
      " 'PumpkabooSuper Size' 'GourgeistAverage Size' 'GourgeistSmall Size'\n",
      " 'GourgeistLarge Size' 'GourgeistSuper Size' 'Bergmite' 'Avalugg' 'Noibat'\n",
      " 'Noivern' 'Xerneas' 'Yveltal' 'Zygarde50% Forme' 'Diancie'\n",
      " 'DiancieMega Diancie' 'HoopaHoopa Confined' 'HoopaHoopa Unbound'\n",
      " 'Volcanion']\n",
      "['Grass' 'Fire' 'Water' 'Bug' 'Normal' 'Poison' 'Electric' 'Ground'\n",
      " 'Fairy' 'Fighting' 'Psychic' 'Rock' 'Ghost' 'Ice' 'Dragon' 'Dark' 'Steel'\n",
      " 'Flying']\n",
      "['Poison' nan 'Flying' 'Dragon' 'Ground' 'Fairy' 'Grass' 'Fighting'\n",
      " 'Psychic' 'Steel' 'Ice' 'Rock' 'Dark' 'Water' 'Electric' 'Fire' 'Ghost'\n",
      " 'Bug' 'Normal']\n",
      "[318 405 525 625 309 534 634 314 530 630 195 205 395 495 251 349 479 579\n",
      " 253 413 262 442 288 438 320 485 300 450 275 365 505 273 323 483 299 270\n",
      " 435 245 455 490 285 305 265 290 440 500 350 555 385 510 310 400 590 390\n",
      " 335 515 410 315 325 465 352 460 475 600 328 330 480 520 425 340 345 295\n",
      " 200 540 640 535 355 615 580 420 680 780 215 415 250 218 210 470 280 610\n",
      " 360 180 430 336 380 700 635 220 240 198 278 518 618 269 414 670 266 456\n",
      " 236 237 474 190 375 260 575 302 467 560 458 468 308 565 770 194 384 263\n",
      " 363 523 224 424 244 482 348 498 452 329 411 454 334 494 594 545 720 528\n",
      " 418 255 370 281 446 316 292 487 264 358 488 497 313 508 445 294 509 351\n",
      " 519 461 303 401 567 473 428 464 319 472 489 471 484 550 660 307 409 423\n",
      " 382 499 213 369 507 371 552 531 466 448 341 462 306 289 481 362 521 431\n",
      " 304 514]\n",
      "[ 45  60  80  39  58  78  44  59  79  50  40  65  63  83  30  55  35  75\n",
      "  70  90  46  61  81  95  38  73 115 140  10  25  52 105  85 250  20 130\n",
      "  48 160  41  91 106 100 125 190 255  28  68 150  31   1  64  84 104  72\n",
      " 144 170 110  43  66  86  99  76  53  37  77  67  97 111  49  71 103  57\n",
      " 108 135  74  69 120 116  62  54  36  51 114 165 109  89  92  56  88 123\n",
      " 101  82  42 126]\n",
      "[ 49  62  82 100  52  64  84 130 104  48  63  83 103  30  20  45  35  25\n",
      "  90 150  60  80  56  81  85  55  75  47  92  57  72 102  70  41  76  50\n",
      "  65  95 105 110  40 120  73   5 125  67 155  10 115 135 134 190  46  38\n",
      "  58  33 185 164 160  51  71  91 140  43  78  15 165  68  23 145 180  89\n",
      " 109  66  86  42  29  59  79  69  94 136  93  24 170 112  61 106 132 123\n",
      "  88  53  98  77  27 117 108  44  87 147  74 124  97 129 128 107  36  22\n",
      "  54 121 131]\n",
      "[ 49  63  83 123  43  58  78 111  65  80 100 120  35  55  50  30  40  75\n",
      "  60  44  69  85 110  52  67  87  57  77  48  73  20  45  70  25  95  15\n",
      " 115 130 180 160  90  53  79   5 109 125 105  64  34  38  28  42 140 200\n",
      " 230  62  37  10 150  41  61  32  23 135  97  71  68  88  51 118 168 102\n",
      "  66  84  94  47  86 116 108  72  56  76 145 107 106  39 126  59  99  89\n",
      " 103 133  82  91 131 112 129 122  54  33 119 184 121]\n",
      "[ 65  80 100 122  60 109 130 159  50  85 135  20  25  90  45  15  35  70\n",
      "  31  61  40  55  75  95  81  30 110 105 120 175  58 115 170  43  73 125\n",
      "  48 154 194  49  63  83  44  59  79  36  76  56 165  72  33  10 140 145\n",
      "  51  71  91  47  46  93  23  74  94 114 160 150 180  78 104 111  42  29\n",
      "  69  62  87  57  92  54  64  41  24  38  68  86 132 116 108  88  53  98\n",
      "  67 107  77  37 106 103 112  97 129 128  32  27  99  39 131]\n",
      "[ 65  80 100 120  50  85 115  64 105  20  25  35  70  31  61  54  79  30\n",
      "  55  40  75  90  45  95  60  62 110 130  48 125  63  83  56  96  76  42\n",
      "  58 230 140 135 154  41  52  82  23  43  73  53  71  87 107  33 200 150\n",
      " 160  44 101  51  34  49  88 138 102  78  66  37  59  86 116 108  72  77\n",
      " 106  39  69  32 126  67  99 129 128  36  38  98  57  81  89  46 123  94\n",
      "  92 113]\n",
      "[ 45  60  80  65 100  43  58  78  30  70  50  35  75 145  56  71 101 121\n",
      "  72  97  55  90 110  40  41  76  85  20  25  95 120 115 105 150  15 130\n",
      "  42  67 140  87  63  68  93  81  48  91  33   5  83  51  61 125 160  28\n",
      " 135  10  23  32  52 180  31  36 108  66  34  39 112  74  84  82 102  92\n",
      "  47  46  86  77 127 113 106  64  24  29 116 114  88  69  57  98  22  44\n",
      "  59  79 103 109  38 111 128  99  73 104 122  62 126  89  49 118  54 123]\n",
      "[1 2 3 4 5 6]\n",
      "[False  True]\n"
     ]
    }
   ],
   "source": [
    "for col in pokemon.columns:\n",
    "    print(pokemon[col].unique())"
   ]
  },
  {
   "cell_type": "markdown",
   "metadata": {},
   "source": [
    "Let's start off by looking at the `head` function in the cell below."
   ]
  },
  {
   "cell_type": "code",
   "execution_count": 3,
   "metadata": {},
   "outputs": [
    {
     "data": {
      "text/html": [
       "<div>\n",
       "<style scoped>\n",
       "    .dataframe tbody tr th:only-of-type {\n",
       "        vertical-align: middle;\n",
       "    }\n",
       "\n",
       "    .dataframe tbody tr th {\n",
       "        vertical-align: top;\n",
       "    }\n",
       "\n",
       "    .dataframe thead th {\n",
       "        text-align: right;\n",
       "    }\n",
       "</style>\n",
       "<table border=\"1\" class=\"dataframe\">\n",
       "  <thead>\n",
       "    <tr style=\"text-align: right;\">\n",
       "      <th></th>\n",
       "      <th>#</th>\n",
       "      <th>Name</th>\n",
       "      <th>Type 1</th>\n",
       "      <th>Type 2</th>\n",
       "      <th>Total</th>\n",
       "      <th>HP</th>\n",
       "      <th>Attack</th>\n",
       "      <th>Defense</th>\n",
       "      <th>Sp. Atk</th>\n",
       "      <th>Sp. Def</th>\n",
       "      <th>Speed</th>\n",
       "      <th>Generation</th>\n",
       "      <th>Legendary</th>\n",
       "    </tr>\n",
       "  </thead>\n",
       "  <tbody>\n",
       "    <tr>\n",
       "      <td>0</td>\n",
       "      <td>1</td>\n",
       "      <td>Bulbasaur</td>\n",
       "      <td>Grass</td>\n",
       "      <td>Poison</td>\n",
       "      <td>318</td>\n",
       "      <td>45</td>\n",
       "      <td>49</td>\n",
       "      <td>49</td>\n",
       "      <td>65</td>\n",
       "      <td>65</td>\n",
       "      <td>45</td>\n",
       "      <td>1</td>\n",
       "      <td>False</td>\n",
       "    </tr>\n",
       "    <tr>\n",
       "      <td>1</td>\n",
       "      <td>2</td>\n",
       "      <td>Ivysaur</td>\n",
       "      <td>Grass</td>\n",
       "      <td>Poison</td>\n",
       "      <td>405</td>\n",
       "      <td>60</td>\n",
       "      <td>62</td>\n",
       "      <td>63</td>\n",
       "      <td>80</td>\n",
       "      <td>80</td>\n",
       "      <td>60</td>\n",
       "      <td>1</td>\n",
       "      <td>False</td>\n",
       "    </tr>\n",
       "    <tr>\n",
       "      <td>2</td>\n",
       "      <td>3</td>\n",
       "      <td>Venusaur</td>\n",
       "      <td>Grass</td>\n",
       "      <td>Poison</td>\n",
       "      <td>525</td>\n",
       "      <td>80</td>\n",
       "      <td>82</td>\n",
       "      <td>83</td>\n",
       "      <td>100</td>\n",
       "      <td>100</td>\n",
       "      <td>80</td>\n",
       "      <td>1</td>\n",
       "      <td>False</td>\n",
       "    </tr>\n",
       "    <tr>\n",
       "      <td>3</td>\n",
       "      <td>3</td>\n",
       "      <td>VenusaurMega Venusaur</td>\n",
       "      <td>Grass</td>\n",
       "      <td>Poison</td>\n",
       "      <td>625</td>\n",
       "      <td>80</td>\n",
       "      <td>100</td>\n",
       "      <td>123</td>\n",
       "      <td>122</td>\n",
       "      <td>120</td>\n",
       "      <td>80</td>\n",
       "      <td>1</td>\n",
       "      <td>False</td>\n",
       "    </tr>\n",
       "    <tr>\n",
       "      <td>4</td>\n",
       "      <td>4</td>\n",
       "      <td>Charmander</td>\n",
       "      <td>Fire</td>\n",
       "      <td>NaN</td>\n",
       "      <td>309</td>\n",
       "      <td>39</td>\n",
       "      <td>52</td>\n",
       "      <td>43</td>\n",
       "      <td>60</td>\n",
       "      <td>50</td>\n",
       "      <td>65</td>\n",
       "      <td>1</td>\n",
       "      <td>False</td>\n",
       "    </tr>\n",
       "  </tbody>\n",
       "</table>\n",
       "</div>"
      ],
      "text/plain": [
       "   #                   Name Type 1  Type 2  Total  HP  Attack  Defense  \\\n",
       "0  1              Bulbasaur  Grass  Poison    318  45      49       49   \n",
       "1  2                Ivysaur  Grass  Poison    405  60      62       63   \n",
       "2  3               Venusaur  Grass  Poison    525  80      82       83   \n",
       "3  3  VenusaurMega Venusaur  Grass  Poison    625  80     100      123   \n",
       "4  4             Charmander   Fire     NaN    309  39      52       43   \n",
       "\n",
       "   Sp. Atk  Sp. Def  Speed  Generation  Legendary  \n",
       "0       65       65     45           1      False  \n",
       "1       80       80     60           1      False  \n",
       "2      100      100     80           1      False  \n",
       "3      122      120     80           1      False  \n",
       "4       60       50     65           1      False  "
      ]
     },
     "execution_count": 3,
     "metadata": {},
     "output_type": "execute_result"
    }
   ],
   "source": [
    "# Your code here:\n",
    "pokemon.head()"
   ]
  },
  {
   "cell_type": "markdown",
   "metadata": {},
   "source": [
    "The first thing we would like to do is compare the legendary Pokemon to the regular Pokemon. To do this, we should examine the data further. What is the count of legendary vs. non legendary Pokemons?"
   ]
  },
  {
   "cell_type": "code",
   "execution_count": 9,
   "metadata": {},
   "outputs": [
    {
     "data": {
      "text/plain": [
       "65"
      ]
     },
     "execution_count": 9,
     "metadata": {},
     "output_type": "execute_result"
    }
   ],
   "source": [
    "# Your code here:\n",
    "\n",
    "filter = (pokemon['Legendary'] == True) \n",
    "pokemon_leg = pokemon[filter]\n",
    "pokemon_leg\n",
    "\n",
    "filter_2 = (pokemon['Legendary'] == False) \n",
    "pokemon_reg = pokemon[filter_2]\n",
    "pokemon_reg\n",
    "\n",
    "# Count of legendary\n",
    "cnt_leg = pokemon_leg[\"Legendary\"].count()\n",
    "cnt_leg"
   ]
  },
  {
   "cell_type": "code",
   "execution_count": 10,
   "metadata": {},
   "outputs": [
    {
     "data": {
      "text/plain": [
       "735"
      ]
     },
     "execution_count": 10,
     "metadata": {},
     "output_type": "execute_result"
    }
   ],
   "source": [
    "# Count of regular\n",
    "cnt_reg = pokemon_reg[\"Legendary\"].count()\n",
    "cnt_reg"
   ]
  },
  {
   "cell_type": "markdown",
   "metadata": {},
   "source": [
    "Compute the mean and standard deviation of the total points for both legendary and non-legendary Pokemon."
   ]
  },
  {
   "cell_type": "code",
   "execution_count": 11,
   "metadata": {},
   "outputs": [
    {
     "data": {
      "text/plain": [
       "637.3846153846154"
      ]
     },
     "execution_count": 11,
     "metadata": {},
     "output_type": "execute_result"
    }
   ],
   "source": [
    "# Your code here:\n",
    "# Calculating the mean\n",
    "pokemon_leg[\"Total\"].mean()"
   ]
  },
  {
   "cell_type": "code",
   "execution_count": 12,
   "metadata": {},
   "outputs": [
    {
     "data": {
      "text/plain": [
       "417.21360544217686"
      ]
     },
     "execution_count": 12,
     "metadata": {},
     "output_type": "execute_result"
    }
   ],
   "source": [
    "pokemon_reg[\"Total\"].mean()"
   ]
  },
  {
   "cell_type": "code",
   "execution_count": 13,
   "metadata": {},
   "outputs": [
    {
     "data": {
      "text/plain": [
       "60.93738905315346"
      ]
     },
     "execution_count": 13,
     "metadata": {},
     "output_type": "execute_result"
    }
   ],
   "source": [
    "# Calculating the Standard Deviation\n",
    "pokemon_leg[\"Total\"].std()"
   ]
  },
  {
   "cell_type": "code",
   "execution_count": 14,
   "metadata": {},
   "outputs": [
    {
     "data": {
      "text/plain": [
       "106.76041745713022"
      ]
     },
     "execution_count": 14,
     "metadata": {},
     "output_type": "execute_result"
    }
   ],
   "source": [
    "pokemon_reg[\"Total\"].std()"
   ]
  },
  {
   "cell_type": "markdown",
   "metadata": {},
   "source": [
    "The computation of the mean might give us a clue regarding how the statistical test may turn out; However, it certainly does not prove whether there is a significant difference between the two groups.\n",
    "\n",
    "In the cell below, use the `ttest_ind` function in `scipy.stats` to compare the the total points for legendary and non-legendary Pokemon. Since we do not have any information about the population, assume the variances are not equal."
   ]
  },
  {
   "cell_type": "code",
   "execution_count": 15,
   "metadata": {},
   "outputs": [
    {
     "data": {
      "text/plain": [
       "Ttest_indResult(statistic=25.8335743895517, pvalue=9.357954335957446e-47)"
      ]
     },
     "execution_count": 15,
     "metadata": {},
     "output_type": "execute_result"
    }
   ],
   "source": [
    "# Your code here:\n",
    "from scipy.stats import ttest_ind\n",
    "\n",
    "ttest_ind(pokemon_leg[\"Total\"], pokemon_reg[\"Total\"], equal_var=False)"
   ]
  },
  {
   "cell_type": "markdown",
   "metadata": {},
   "source": [
    "What do you conclude from this test? Write your conclusions below."
   ]
  },
  {
   "cell_type": "code",
   "execution_count": 6,
   "metadata": {},
   "outputs": [],
   "source": [
    "# Your conclusions here:\n",
    "# Since the P value is very low, we can reject the H0 hypothesis, that mentions that the two samples are the same."
   ]
  },
  {
   "cell_type": "markdown",
   "metadata": {},
   "source": [
    "How about we try to compare the different types of pokemon? In the cell below, list the types of Pokemon from column `Type 1` and the count of each type."
   ]
  },
  {
   "cell_type": "code",
   "execution_count": 20,
   "metadata": {},
   "outputs": [
    {
     "data": {
      "text/plain": [
       "array(['Grass', 'Fire', 'Water', 'Bug', 'Normal', 'Poison', 'Electric',\n",
       "       'Ground', 'Fairy', 'Fighting', 'Psychic', 'Rock', 'Ghost', 'Ice',\n",
       "       'Dragon', 'Dark', 'Steel', 'Flying'], dtype=object)"
      ]
     },
     "execution_count": 20,
     "metadata": {},
     "output_type": "execute_result"
    }
   ],
   "source": [
    "# Your code here:\n",
    "unique_types = pd.unique(pokemon['Type 1'])\n",
    "unique_types"
   ]
  },
  {
   "cell_type": "code",
   "execution_count": 21,
   "metadata": {},
   "outputs": [
    {
     "data": {
      "text/plain": [
       "Type 1\n",
       "Bug          69\n",
       "Dark         31\n",
       "Dragon       32\n",
       "Electric     44\n",
       "Fairy        17\n",
       "Fighting     27\n",
       "Fire         52\n",
       "Flying        4\n",
       "Ghost        32\n",
       "Grass        70\n",
       "Ground       32\n",
       "Ice          24\n",
       "Normal       98\n",
       "Poison       28\n",
       "Psychic      57\n",
       "Rock         44\n",
       "Steel        27\n",
       "Water       112\n",
       "Name: Type 1, dtype: int64"
      ]
     },
     "execution_count": 21,
     "metadata": {},
     "output_type": "execute_result"
    }
   ],
   "source": [
    "type_count = pokemon.groupby([\"Type 1\"])[\"Type 1\"].count()\n",
    "type_count"
   ]
  },
  {
   "cell_type": "markdown",
   "metadata": {},
   "source": [
    "Since water is the largest group of Pokemon, compare the mean and standard deviation of water Pokemon to all other Pokemon."
   ]
  },
  {
   "cell_type": "code",
   "execution_count": 23,
   "metadata": {},
   "outputs": [
    {
     "data": {
      "text/plain": [
       "430.45535714285717"
      ]
     },
     "execution_count": 23,
     "metadata": {},
     "output_type": "execute_result"
    }
   ],
   "source": [
    "# Your code here:\n",
    "# Mean and std for Pokemon = Water:\n",
    "\n",
    "pokemon.loc[pokemon[\"Type 1\"] == \"Water\", \"Total\"].mean()"
   ]
  },
  {
   "cell_type": "code",
   "execution_count": 24,
   "metadata": {
    "scrolled": true
   },
   "outputs": [
    {
     "data": {
      "text/plain": [
       "113.18826606431458"
      ]
     },
     "execution_count": 24,
     "metadata": {},
     "output_type": "execute_result"
    }
   ],
   "source": [
    "pokemon.loc[pokemon[\"Type 1\"] == \"Water\", \"Total\"].std()"
   ]
  },
  {
   "cell_type": "code",
   "execution_count": 25,
   "metadata": {},
   "outputs": [
    {
     "data": {
      "text/plain": [
       "435.85901162790697"
      ]
     },
     "execution_count": 25,
     "metadata": {},
     "output_type": "execute_result"
    }
   ],
   "source": [
    "# Mean and std for Pokemon != Water\n",
    "pokemon.loc[pokemon[\"Type 1\"] != \"Water\", \"Total\"].mean()"
   ]
  },
  {
   "cell_type": "code",
   "execution_count": 26,
   "metadata": {},
   "outputs": [
    {
     "data": {
      "text/plain": [
       "121.09168230208066"
      ]
     },
     "execution_count": 26,
     "metadata": {},
     "output_type": "execute_result"
    }
   ],
   "source": [
    "pokemon.loc[pokemon[\"Type 1\"] != \"Water\", \"Total\"].std()"
   ]
  },
  {
   "cell_type": "code",
   "execution_count": 27,
   "metadata": {},
   "outputs": [
    {
     "data": {
      "text/html": [
       "<div>\n",
       "<style scoped>\n",
       "    .dataframe tbody tr th:only-of-type {\n",
       "        vertical-align: middle;\n",
       "    }\n",
       "\n",
       "    .dataframe tbody tr th {\n",
       "        vertical-align: top;\n",
       "    }\n",
       "\n",
       "    .dataframe thead th {\n",
       "        text-align: right;\n",
       "    }\n",
       "</style>\n",
       "<table border=\"1\" class=\"dataframe\">\n",
       "  <thead>\n",
       "    <tr style=\"text-align: right;\">\n",
       "      <th></th>\n",
       "      <th>#</th>\n",
       "      <th>Name</th>\n",
       "      <th>Type 1</th>\n",
       "      <th>Type 2</th>\n",
       "      <th>Total</th>\n",
       "      <th>HP</th>\n",
       "      <th>Attack</th>\n",
       "      <th>Defense</th>\n",
       "      <th>Sp. Atk</th>\n",
       "      <th>Sp. Def</th>\n",
       "      <th>Speed</th>\n",
       "      <th>Generation</th>\n",
       "      <th>Legendary</th>\n",
       "    </tr>\n",
       "  </thead>\n",
       "  <tbody>\n",
       "    <tr>\n",
       "      <td>9</td>\n",
       "      <td>7</td>\n",
       "      <td>Squirtle</td>\n",
       "      <td>Water</td>\n",
       "      <td>NaN</td>\n",
       "      <td>314</td>\n",
       "      <td>44</td>\n",
       "      <td>48</td>\n",
       "      <td>65</td>\n",
       "      <td>50</td>\n",
       "      <td>64</td>\n",
       "      <td>43</td>\n",
       "      <td>1</td>\n",
       "      <td>False</td>\n",
       "    </tr>\n",
       "    <tr>\n",
       "      <td>10</td>\n",
       "      <td>8</td>\n",
       "      <td>Wartortle</td>\n",
       "      <td>Water</td>\n",
       "      <td>NaN</td>\n",
       "      <td>405</td>\n",
       "      <td>59</td>\n",
       "      <td>63</td>\n",
       "      <td>80</td>\n",
       "      <td>65</td>\n",
       "      <td>80</td>\n",
       "      <td>58</td>\n",
       "      <td>1</td>\n",
       "      <td>False</td>\n",
       "    </tr>\n",
       "    <tr>\n",
       "      <td>11</td>\n",
       "      <td>9</td>\n",
       "      <td>Blastoise</td>\n",
       "      <td>Water</td>\n",
       "      <td>NaN</td>\n",
       "      <td>530</td>\n",
       "      <td>79</td>\n",
       "      <td>83</td>\n",
       "      <td>100</td>\n",
       "      <td>85</td>\n",
       "      <td>105</td>\n",
       "      <td>78</td>\n",
       "      <td>1</td>\n",
       "      <td>False</td>\n",
       "    </tr>\n",
       "    <tr>\n",
       "      <td>12</td>\n",
       "      <td>9</td>\n",
       "      <td>BlastoiseMega Blastoise</td>\n",
       "      <td>Water</td>\n",
       "      <td>NaN</td>\n",
       "      <td>630</td>\n",
       "      <td>79</td>\n",
       "      <td>103</td>\n",
       "      <td>120</td>\n",
       "      <td>135</td>\n",
       "      <td>115</td>\n",
       "      <td>78</td>\n",
       "      <td>1</td>\n",
       "      <td>False</td>\n",
       "    </tr>\n",
       "    <tr>\n",
       "      <td>59</td>\n",
       "      <td>54</td>\n",
       "      <td>Psyduck</td>\n",
       "      <td>Water</td>\n",
       "      <td>NaN</td>\n",
       "      <td>320</td>\n",
       "      <td>50</td>\n",
       "      <td>52</td>\n",
       "      <td>48</td>\n",
       "      <td>65</td>\n",
       "      <td>50</td>\n",
       "      <td>55</td>\n",
       "      <td>1</td>\n",
       "      <td>False</td>\n",
       "    </tr>\n",
       "    <tr>\n",
       "      <td>...</td>\n",
       "      <td>...</td>\n",
       "      <td>...</td>\n",
       "      <td>...</td>\n",
       "      <td>...</td>\n",
       "      <td>...</td>\n",
       "      <td>...</td>\n",
       "      <td>...</td>\n",
       "      <td>...</td>\n",
       "      <td>...</td>\n",
       "      <td>...</td>\n",
       "      <td>...</td>\n",
       "      <td>...</td>\n",
       "      <td>...</td>\n",
       "    </tr>\n",
       "    <tr>\n",
       "      <td>724</td>\n",
       "      <td>656</td>\n",
       "      <td>Froakie</td>\n",
       "      <td>Water</td>\n",
       "      <td>NaN</td>\n",
       "      <td>314</td>\n",
       "      <td>41</td>\n",
       "      <td>56</td>\n",
       "      <td>40</td>\n",
       "      <td>62</td>\n",
       "      <td>44</td>\n",
       "      <td>71</td>\n",
       "      <td>6</td>\n",
       "      <td>False</td>\n",
       "    </tr>\n",
       "    <tr>\n",
       "      <td>725</td>\n",
       "      <td>657</td>\n",
       "      <td>Frogadier</td>\n",
       "      <td>Water</td>\n",
       "      <td>NaN</td>\n",
       "      <td>405</td>\n",
       "      <td>54</td>\n",
       "      <td>63</td>\n",
       "      <td>52</td>\n",
       "      <td>83</td>\n",
       "      <td>56</td>\n",
       "      <td>97</td>\n",
       "      <td>6</td>\n",
       "      <td>False</td>\n",
       "    </tr>\n",
       "    <tr>\n",
       "      <td>726</td>\n",
       "      <td>658</td>\n",
       "      <td>Greninja</td>\n",
       "      <td>Water</td>\n",
       "      <td>Dark</td>\n",
       "      <td>530</td>\n",
       "      <td>72</td>\n",
       "      <td>95</td>\n",
       "      <td>67</td>\n",
       "      <td>103</td>\n",
       "      <td>71</td>\n",
       "      <td>122</td>\n",
       "      <td>6</td>\n",
       "      <td>False</td>\n",
       "    </tr>\n",
       "    <tr>\n",
       "      <td>762</td>\n",
       "      <td>692</td>\n",
       "      <td>Clauncher</td>\n",
       "      <td>Water</td>\n",
       "      <td>NaN</td>\n",
       "      <td>330</td>\n",
       "      <td>50</td>\n",
       "      <td>53</td>\n",
       "      <td>62</td>\n",
       "      <td>58</td>\n",
       "      <td>63</td>\n",
       "      <td>44</td>\n",
       "      <td>6</td>\n",
       "      <td>False</td>\n",
       "    </tr>\n",
       "    <tr>\n",
       "      <td>763</td>\n",
       "      <td>693</td>\n",
       "      <td>Clawitzer</td>\n",
       "      <td>Water</td>\n",
       "      <td>NaN</td>\n",
       "      <td>500</td>\n",
       "      <td>71</td>\n",
       "      <td>73</td>\n",
       "      <td>88</td>\n",
       "      <td>120</td>\n",
       "      <td>89</td>\n",
       "      <td>59</td>\n",
       "      <td>6</td>\n",
       "      <td>False</td>\n",
       "    </tr>\n",
       "  </tbody>\n",
       "</table>\n",
       "<p>112 rows × 13 columns</p>\n",
       "</div>"
      ],
      "text/plain": [
       "       #                     Name Type 1 Type 2  Total  HP  Attack  Defense  \\\n",
       "9      7                 Squirtle  Water    NaN    314  44      48       65   \n",
       "10     8                Wartortle  Water    NaN    405  59      63       80   \n",
       "11     9                Blastoise  Water    NaN    530  79      83      100   \n",
       "12     9  BlastoiseMega Blastoise  Water    NaN    630  79     103      120   \n",
       "59    54                  Psyduck  Water    NaN    320  50      52       48   \n",
       "..   ...                      ...    ...    ...    ...  ..     ...      ...   \n",
       "724  656                  Froakie  Water    NaN    314  41      56       40   \n",
       "725  657                Frogadier  Water    NaN    405  54      63       52   \n",
       "726  658                 Greninja  Water   Dark    530  72      95       67   \n",
       "762  692                Clauncher  Water    NaN    330  50      53       62   \n",
       "763  693                Clawitzer  Water    NaN    500  71      73       88   \n",
       "\n",
       "     Sp. Atk  Sp. Def  Speed  Generation  Legendary  \n",
       "9         50       64     43           1      False  \n",
       "10        65       80     58           1      False  \n",
       "11        85      105     78           1      False  \n",
       "12       135      115     78           1      False  \n",
       "59        65       50     55           1      False  \n",
       "..       ...      ...    ...         ...        ...  \n",
       "724       62       44     71           6      False  \n",
       "725       83       56     97           6      False  \n",
       "726      103       71    122           6      False  \n",
       "762       58       63     44           6      False  \n",
       "763      120       89     59           6      False  \n",
       "\n",
       "[112 rows x 13 columns]"
      ]
     },
     "execution_count": 27,
     "metadata": {},
     "output_type": "execute_result"
    }
   ],
   "source": [
    "pokemon_water = pokemon.loc[pokemon[\"Type 1\"] == \"Water\"]\n",
    "pokemon_water"
   ]
  },
  {
   "cell_type": "code",
   "execution_count": 28,
   "metadata": {},
   "outputs": [
    {
     "data": {
      "text/html": [
       "<div>\n",
       "<style scoped>\n",
       "    .dataframe tbody tr th:only-of-type {\n",
       "        vertical-align: middle;\n",
       "    }\n",
       "\n",
       "    .dataframe tbody tr th {\n",
       "        vertical-align: top;\n",
       "    }\n",
       "\n",
       "    .dataframe thead th {\n",
       "        text-align: right;\n",
       "    }\n",
       "</style>\n",
       "<table border=\"1\" class=\"dataframe\">\n",
       "  <thead>\n",
       "    <tr style=\"text-align: right;\">\n",
       "      <th></th>\n",
       "      <th>#</th>\n",
       "      <th>Name</th>\n",
       "      <th>Type 1</th>\n",
       "      <th>Type 2</th>\n",
       "      <th>Total</th>\n",
       "      <th>HP</th>\n",
       "      <th>Attack</th>\n",
       "      <th>Defense</th>\n",
       "      <th>Sp. Atk</th>\n",
       "      <th>Sp. Def</th>\n",
       "      <th>Speed</th>\n",
       "      <th>Generation</th>\n",
       "      <th>Legendary</th>\n",
       "    </tr>\n",
       "  </thead>\n",
       "  <tbody>\n",
       "    <tr>\n",
       "      <td>0</td>\n",
       "      <td>1</td>\n",
       "      <td>Bulbasaur</td>\n",
       "      <td>Grass</td>\n",
       "      <td>Poison</td>\n",
       "      <td>318</td>\n",
       "      <td>45</td>\n",
       "      <td>49</td>\n",
       "      <td>49</td>\n",
       "      <td>65</td>\n",
       "      <td>65</td>\n",
       "      <td>45</td>\n",
       "      <td>1</td>\n",
       "      <td>False</td>\n",
       "    </tr>\n",
       "    <tr>\n",
       "      <td>1</td>\n",
       "      <td>2</td>\n",
       "      <td>Ivysaur</td>\n",
       "      <td>Grass</td>\n",
       "      <td>Poison</td>\n",
       "      <td>405</td>\n",
       "      <td>60</td>\n",
       "      <td>62</td>\n",
       "      <td>63</td>\n",
       "      <td>80</td>\n",
       "      <td>80</td>\n",
       "      <td>60</td>\n",
       "      <td>1</td>\n",
       "      <td>False</td>\n",
       "    </tr>\n",
       "    <tr>\n",
       "      <td>2</td>\n",
       "      <td>3</td>\n",
       "      <td>Venusaur</td>\n",
       "      <td>Grass</td>\n",
       "      <td>Poison</td>\n",
       "      <td>525</td>\n",
       "      <td>80</td>\n",
       "      <td>82</td>\n",
       "      <td>83</td>\n",
       "      <td>100</td>\n",
       "      <td>100</td>\n",
       "      <td>80</td>\n",
       "      <td>1</td>\n",
       "      <td>False</td>\n",
       "    </tr>\n",
       "    <tr>\n",
       "      <td>3</td>\n",
       "      <td>3</td>\n",
       "      <td>VenusaurMega Venusaur</td>\n",
       "      <td>Grass</td>\n",
       "      <td>Poison</td>\n",
       "      <td>625</td>\n",
       "      <td>80</td>\n",
       "      <td>100</td>\n",
       "      <td>123</td>\n",
       "      <td>122</td>\n",
       "      <td>120</td>\n",
       "      <td>80</td>\n",
       "      <td>1</td>\n",
       "      <td>False</td>\n",
       "    </tr>\n",
       "    <tr>\n",
       "      <td>4</td>\n",
       "      <td>4</td>\n",
       "      <td>Charmander</td>\n",
       "      <td>Fire</td>\n",
       "      <td>NaN</td>\n",
       "      <td>309</td>\n",
       "      <td>39</td>\n",
       "      <td>52</td>\n",
       "      <td>43</td>\n",
       "      <td>60</td>\n",
       "      <td>50</td>\n",
       "      <td>65</td>\n",
       "      <td>1</td>\n",
       "      <td>False</td>\n",
       "    </tr>\n",
       "    <tr>\n",
       "      <td>...</td>\n",
       "      <td>...</td>\n",
       "      <td>...</td>\n",
       "      <td>...</td>\n",
       "      <td>...</td>\n",
       "      <td>...</td>\n",
       "      <td>...</td>\n",
       "      <td>...</td>\n",
       "      <td>...</td>\n",
       "      <td>...</td>\n",
       "      <td>...</td>\n",
       "      <td>...</td>\n",
       "      <td>...</td>\n",
       "      <td>...</td>\n",
       "    </tr>\n",
       "    <tr>\n",
       "      <td>795</td>\n",
       "      <td>719</td>\n",
       "      <td>Diancie</td>\n",
       "      <td>Rock</td>\n",
       "      <td>Fairy</td>\n",
       "      <td>600</td>\n",
       "      <td>50</td>\n",
       "      <td>100</td>\n",
       "      <td>150</td>\n",
       "      <td>100</td>\n",
       "      <td>150</td>\n",
       "      <td>50</td>\n",
       "      <td>6</td>\n",
       "      <td>True</td>\n",
       "    </tr>\n",
       "    <tr>\n",
       "      <td>796</td>\n",
       "      <td>719</td>\n",
       "      <td>DiancieMega Diancie</td>\n",
       "      <td>Rock</td>\n",
       "      <td>Fairy</td>\n",
       "      <td>700</td>\n",
       "      <td>50</td>\n",
       "      <td>160</td>\n",
       "      <td>110</td>\n",
       "      <td>160</td>\n",
       "      <td>110</td>\n",
       "      <td>110</td>\n",
       "      <td>6</td>\n",
       "      <td>True</td>\n",
       "    </tr>\n",
       "    <tr>\n",
       "      <td>797</td>\n",
       "      <td>720</td>\n",
       "      <td>HoopaHoopa Confined</td>\n",
       "      <td>Psychic</td>\n",
       "      <td>Ghost</td>\n",
       "      <td>600</td>\n",
       "      <td>80</td>\n",
       "      <td>110</td>\n",
       "      <td>60</td>\n",
       "      <td>150</td>\n",
       "      <td>130</td>\n",
       "      <td>70</td>\n",
       "      <td>6</td>\n",
       "      <td>True</td>\n",
       "    </tr>\n",
       "    <tr>\n",
       "      <td>798</td>\n",
       "      <td>720</td>\n",
       "      <td>HoopaHoopa Unbound</td>\n",
       "      <td>Psychic</td>\n",
       "      <td>Dark</td>\n",
       "      <td>680</td>\n",
       "      <td>80</td>\n",
       "      <td>160</td>\n",
       "      <td>60</td>\n",
       "      <td>170</td>\n",
       "      <td>130</td>\n",
       "      <td>80</td>\n",
       "      <td>6</td>\n",
       "      <td>True</td>\n",
       "    </tr>\n",
       "    <tr>\n",
       "      <td>799</td>\n",
       "      <td>721</td>\n",
       "      <td>Volcanion</td>\n",
       "      <td>Fire</td>\n",
       "      <td>Water</td>\n",
       "      <td>600</td>\n",
       "      <td>80</td>\n",
       "      <td>110</td>\n",
       "      <td>120</td>\n",
       "      <td>130</td>\n",
       "      <td>90</td>\n",
       "      <td>70</td>\n",
       "      <td>6</td>\n",
       "      <td>True</td>\n",
       "    </tr>\n",
       "  </tbody>\n",
       "</table>\n",
       "<p>688 rows × 13 columns</p>\n",
       "</div>"
      ],
      "text/plain": [
       "       #                   Name   Type 1  Type 2  Total  HP  Attack  Defense  \\\n",
       "0      1              Bulbasaur    Grass  Poison    318  45      49       49   \n",
       "1      2                Ivysaur    Grass  Poison    405  60      62       63   \n",
       "2      3               Venusaur    Grass  Poison    525  80      82       83   \n",
       "3      3  VenusaurMega Venusaur    Grass  Poison    625  80     100      123   \n",
       "4      4             Charmander     Fire     NaN    309  39      52       43   \n",
       "..   ...                    ...      ...     ...    ...  ..     ...      ...   \n",
       "795  719                Diancie     Rock   Fairy    600  50     100      150   \n",
       "796  719    DiancieMega Diancie     Rock   Fairy    700  50     160      110   \n",
       "797  720    HoopaHoopa Confined  Psychic   Ghost    600  80     110       60   \n",
       "798  720     HoopaHoopa Unbound  Psychic    Dark    680  80     160       60   \n",
       "799  721              Volcanion     Fire   Water    600  80     110      120   \n",
       "\n",
       "     Sp. Atk  Sp. Def  Speed  Generation  Legendary  \n",
       "0         65       65     45           1      False  \n",
       "1         80       80     60           1      False  \n",
       "2        100      100     80           1      False  \n",
       "3        122      120     80           1      False  \n",
       "4         60       50     65           1      False  \n",
       "..       ...      ...    ...         ...        ...  \n",
       "795      100      150     50           6       True  \n",
       "796      160      110    110           6       True  \n",
       "797      150      130     70           6       True  \n",
       "798      170      130     80           6       True  \n",
       "799      130       90     70           6       True  \n",
       "\n",
       "[688 rows x 13 columns]"
      ]
     },
     "execution_count": 28,
     "metadata": {},
     "output_type": "execute_result"
    }
   ],
   "source": [
    "pokemon_nonwater = pokemon.loc[pokemon[\"Type 1\"] != \"Water\"]\n",
    "pokemon_nonwater"
   ]
  },
  {
   "cell_type": "markdown",
   "metadata": {},
   "source": [
    "Perform a hypothesis test comparing the mean of total points for water Pokemon to all non-water Pokemon. Assume the variances are equal. "
   ]
  },
  {
   "cell_type": "code",
   "execution_count": 29,
   "metadata": {},
   "outputs": [
    {
     "data": {
      "text/plain": [
       "Ttest_indResult(statistic=-0.4418547448849676, pvalue=0.6587140317488793)"
      ]
     },
     "execution_count": 29,
     "metadata": {},
     "output_type": "execute_result"
    }
   ],
   "source": [
    "# Your code here:\n",
    "\n",
    "from scipy.stats import ttest_ind\n",
    "\n",
    "ttest_ind(pokemon_water[\"Total\"], pokemon_nonwater[\"Total\"], equal_var=True)"
   ]
  },
  {
   "cell_type": "markdown",
   "metadata": {},
   "source": [
    "Write your conclusion below."
   ]
  },
  {
   "cell_type": "code",
   "execution_count": 10,
   "metadata": {},
   "outputs": [],
   "source": [
    "# Your conclusions here:\n",
    "# p-value is within the 95% interval, being quite high. Therefore we can assume that the H0 hypothesis is true.\n"
   ]
  },
  {
   "cell_type": "markdown",
   "metadata": {},
   "source": [
    "# Challenge 2 - Matched Pairs Test\n",
    "\n",
    "In this challenge we will compare dependent samples of data describing our Pokemon. Our goal is to see whether there is a significant difference between each Pokemon's defense and attack scores. Our hypothesis is that the defense and attack scores are equal. In the cell below, import the `ttest_rel` function from `scipy.stats` and compare the two columns to see if there is a statistically significant difference between them."
   ]
  },
  {
   "cell_type": "code",
   "execution_count": 31,
   "metadata": {},
   "outputs": [
    {
     "data": {
      "text/plain": [
       "0       49\n",
       "1       63\n",
       "2       83\n",
       "3      123\n",
       "4       43\n",
       "      ... \n",
       "795    150\n",
       "796    110\n",
       "797     60\n",
       "798     60\n",
       "799    120\n",
       "Name: Defense, Length: 800, dtype: int64"
      ]
     },
     "execution_count": 31,
     "metadata": {},
     "output_type": "execute_result"
    }
   ],
   "source": [
    "# Your code here:\n",
    "\n",
    "# Defining the samples:\n",
    "pokemon_attack = pokemon[\"Attack\"]\n",
    "pokemon_attack\n",
    "\n",
    "pokemon_defense = pokemon[\"Defense\"]\n",
    "pokemon_defense"
   ]
  },
  {
   "cell_type": "code",
   "execution_count": 33,
   "metadata": {},
   "outputs": [
    {
     "data": {
      "text/plain": [
       "Ttest_indResult(statistic=3.2417640740423126, pvalue=0.0012124374824544375)"
      ]
     },
     "execution_count": 33,
     "metadata": {},
     "output_type": "execute_result"
    }
   ],
   "source": [
    "from scipy.stats import ttest_ind\n",
    "\n",
    "ttest_ind(pokemon_attack, pokemon_defense, equal_var=False)"
   ]
  },
  {
   "cell_type": "markdown",
   "metadata": {},
   "source": [
    "Describe the results of the test in the cell below."
   ]
  },
  {
   "cell_type": "code",
   "execution_count": 32,
   "metadata": {},
   "outputs": [
    {
     "data": {
      "text/plain": [
       "Ttest_indResult(statistic=3.2417640740423126, pvalue=0.0012123980547321454)"
      ]
     },
     "execution_count": 32,
     "metadata": {},
     "output_type": "execute_result"
    }
   ],
   "source": [
    "# Your conclusions here:\n",
    "# The p-value is very low so we cannot accept the H0 hypothesis that they are equal."
   ]
  },
  {
   "cell_type": "markdown",
   "metadata": {},
   "source": [
    "We are also curious about whether therer is a significant difference between the mean of special defense and the mean of special attack. Perform the hypothesis test in the cell below. "
   ]
  },
  {
   "cell_type": "code",
   "execution_count": 35,
   "metadata": {},
   "outputs": [
    {
     "data": {
      "text/plain": [
       "0       65\n",
       "1       80\n",
       "2      100\n",
       "3      120\n",
       "4       50\n",
       "      ... \n",
       "795    150\n",
       "796    110\n",
       "797    130\n",
       "798    130\n",
       "799     90\n",
       "Name: Sp. Def, Length: 800, dtype: int64"
      ]
     },
     "execution_count": 35,
     "metadata": {},
     "output_type": "execute_result"
    }
   ],
   "source": [
    "# Your code here:\n",
    "\n",
    "pokemon_sp_attack = pokemon[\"Sp. Atk\"]\n",
    "pokemon_sp_attack\n",
    "\n",
    "pokemon_sp_defense = pokemon[\"Sp. Def\"]\n",
    "pokemon_sp_defense"
   ]
  },
  {
   "cell_type": "code",
   "execution_count": 36,
   "metadata": {},
   "outputs": [
    {
     "data": {
      "text/plain": [
       "Ttest_indResult(statistic=0.6041290031014401, pvalue=0.5458458438771813)"
      ]
     },
     "execution_count": 36,
     "metadata": {},
     "output_type": "execute_result"
    }
   ],
   "source": [
    "ttest_ind(pokemon_sp_attack, pokemon_sp_defense, equal_var=False)"
   ]
  },
  {
   "cell_type": "markdown",
   "metadata": {},
   "source": [
    "Describe the results of the test in the cell below."
   ]
  },
  {
   "cell_type": "code",
   "execution_count": 14,
   "metadata": {},
   "outputs": [],
   "source": [
    "# Your conclusions here:\n",
    "# P-value is in the 95% interval, so we cannot reject the H0 hypothesis that the distributions are the same.\n"
   ]
  },
  {
   "cell_type": "markdown",
   "metadata": {},
   "source": [
    "As you may recall, a two sample matched pairs test can also be expressed as a one sample test of the difference between the two dependent columns.\n",
    "\n",
    "Import the `ttest_1samp` function and perform a one sample t-test of the difference between defense and attack. Test the hypothesis that the difference between the means is zero. Confirm that the results of the test are the same."
   ]
  },
  {
   "cell_type": "code",
   "execution_count": 39,
   "metadata": {},
   "outputs": [
    {
     "data": {
      "text/plain": [
       "79.00125"
      ]
     },
     "execution_count": 39,
     "metadata": {},
     "output_type": "execute_result"
    }
   ],
   "source": [
    "# Your code here:\n",
    "from scipy.stats import ttest_1samp\n",
    "\n",
    "# Getting the mean for one of the samples:\n",
    "pokemon_attack.mean()"
   ]
  },
  {
   "cell_type": "code",
   "execution_count": 40,
   "metadata": {},
   "outputs": [
    {
     "data": {
      "text/plain": [
       "Ttest_1sampResult(statistic=-4.679124590910434, pvalue=3.3829080435248473e-06)"
      ]
     },
     "execution_count": 40,
     "metadata": {},
     "output_type": "execute_result"
    }
   ],
   "source": [
    "# 1 sample test for pokemon_defense:\n",
    "ttest_1samp(pokemon_defense, (pokemon_attack.mean()))"
   ]
  },
  {
   "cell_type": "code",
   "execution_count": null,
   "metadata": {},
   "outputs": [],
   "source": [
    "# Again the p-value is very low, so we cannot accept the H0 hypothesis that they are equal\n",
    "# (as we saw with the 2 sample test)."
   ]
  },
  {
   "cell_type": "markdown",
   "metadata": {},
   "source": [
    "# Bonus Challenge - The Chi-Square Test\n",
    "\n",
    "The Chi-Square test is used to determine whether there is a statistically significant difference in frequencies. In other words, we are testing whether there is a relationship between categorical variables or rather when the variables are independent. This test is an alternative to Fisher's exact test and is used in scenarios where sample sizes are larger. However, with a large enough sample size, both tests produce similar results. Read more about the Chi Squared test [here](https://en.wikipedia.org/wiki/Chi-squared_test).\n",
    "\n",
    "In the cell below, create a contingency table using `pd.crosstab` comparing whether a Pokemon is legenadary or not and whether the Type 1 of a Pokemon is water or not."
   ]
  },
  {
   "cell_type": "code",
   "execution_count": 17,
   "metadata": {},
   "outputs": [],
   "source": [
    "# Your code here:\n",
    "\n"
   ]
  },
  {
   "cell_type": "markdown",
   "metadata": {},
   "source": [
    "Perform a chi-squared test using the `chi2_contingency` function in `scipy.stats`. You can read the documentation of the function [here](https://docs.scipy.org/doc/scipy-0.15.1/reference/generated/scipy.stats.chi2_contingency.html)."
   ]
  },
  {
   "cell_type": "code",
   "execution_count": 18,
   "metadata": {},
   "outputs": [],
   "source": [
    "# Your code here:\n",
    "\n"
   ]
  },
  {
   "cell_type": "markdown",
   "metadata": {},
   "source": [
    "Based on a 95% confidence, should we reject the null hypothesis?"
   ]
  },
  {
   "cell_type": "code",
   "execution_count": 19,
   "metadata": {},
   "outputs": [],
   "source": [
    "# Your answer here:\n",
    "\n"
   ]
  },
  {
   "cell_type": "code",
   "execution_count": null,
   "metadata": {},
   "outputs": [],
   "source": []
  }
 ],
 "metadata": {
  "kernelspec": {
   "display_name": "Python 3",
   "language": "python",
   "name": "python3"
  },
  "language_info": {
   "codemirror_mode": {
    "name": "ipython",
    "version": 3
   },
   "file_extension": ".py",
   "mimetype": "text/x-python",
   "name": "python",
   "nbconvert_exporter": "python",
   "pygments_lexer": "ipython3",
   "version": "3.7.4"
  }
 },
 "nbformat": 4,
 "nbformat_minor": 2
}
